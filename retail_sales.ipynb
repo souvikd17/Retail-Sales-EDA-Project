{
 "cells": [
  {
   "cell_type": "markdown",
   "id": "ce33141a-74dc-4da2-8d7e-52a398abaed3",
   "metadata": {},
   "source": [
    "# Retail Sales Dataset Analysis"
   ]
  },
  {
   "cell_type": "markdown",
   "id": "2c804e6c-c728-4e03-ab1d-cafb5f8dabb5",
   "metadata": {},
   "source": [
    "The dataset named \"Retail Sales Dataset\" from Kaggle is used in this project. The dataset can be accessed from the following link -- https://www.kaggle.com/datasets/mohammadtalib786/retail-sales-dataset/data."
   ]
  },
  {
   "cell_type": "markdown",
   "id": "467c1bdd-d3fb-4860-8622-cbd9278096a9",
   "metadata": {},
   "source": [
    "## Data Loading and Exploration"
   ]
  },
  {
   "cell_type": "markdown",
   "id": "85f6aea2-47b3-4653-9f6b-7cba865be387",
   "metadata": {},
   "source": [
    "Description of different columns of the dataset is given below :\n",
    "\n",
    "1. **Transaction ID**  : A unique identifier for each transaction, allowing tracking and reference.\n",
    "2. **Date**            : The date when the transaction occurred, providing insights into sales trends over time.\n",
    "3. **Customer ID**     : A unique identifier for each customer, enabling customer-centric analysis.\n",
    "4. **Gender**          : The gender of the customer (Male/Female), offering insights into gender-based purchasing patterns.\n",
    "5. **Age**             : The age of the customer, facilitating segmentation and exploration of age-related influences.\n",
    "6. **Product Category**: The category of the purchased product (e.g., Electronics, Clothing, Beauty), helping understand product preferences.\n",
    "7. **Quantity**        : The number of units of the product purchased, contributing to insights on purchase volumes.\n",
    "8. **Price per Unit**  : The price of one unit of the product, aiding in calculations related to total spending.\n",
    "9. **Total Amount**    : The total monetary value of the transaction, showcasing the financial impact of each purchase."
   ]
  },
  {
   "cell_type": "code",
   "execution_count": 1,
   "id": "32bcdb8e-52a5-4a84-b663-0d797c58c0d6",
   "metadata": {},
   "outputs": [],
   "source": [
    "# importing required libraries\n",
    "import numpy as np\n",
    "import pandas as pd"
   ]
  },
  {
   "cell_type": "code",
   "execution_count": 2,
   "id": "c268d557-f7db-4dbf-ac91-c37e80b5affe",
   "metadata": {},
   "outputs": [],
   "source": [
    "# Loading the dataset\n",
    "sale_data = pd.read_csv(\"retail_sales_dataset.csv\")"
   ]
  },
  {
   "cell_type": "code",
   "execution_count": 3,
   "id": "ec54f9a9-57b1-4252-add0-519ed2772281",
   "metadata": {},
   "outputs": [
    {
     "data": {
      "text/html": [
       "<div>\n",
       "<style scoped>\n",
       "    .dataframe tbody tr th:only-of-type {\n",
       "        vertical-align: middle;\n",
       "    }\n",
       "\n",
       "    .dataframe tbody tr th {\n",
       "        vertical-align: top;\n",
       "    }\n",
       "\n",
       "    .dataframe thead th {\n",
       "        text-align: right;\n",
       "    }\n",
       "</style>\n",
       "<table border=\"1\" class=\"dataframe\">\n",
       "  <thead>\n",
       "    <tr style=\"text-align: right;\">\n",
       "      <th></th>\n",
       "      <th>Transaction ID</th>\n",
       "      <th>Date</th>\n",
       "      <th>Customer ID</th>\n",
       "      <th>Gender</th>\n",
       "      <th>Age</th>\n",
       "      <th>Product Category</th>\n",
       "      <th>Quantity</th>\n",
       "      <th>Price per Unit</th>\n",
       "      <th>Total Amount</th>\n",
       "    </tr>\n",
       "  </thead>\n",
       "  <tbody>\n",
       "    <tr>\n",
       "      <th>0</th>\n",
       "      <td>1</td>\n",
       "      <td>2023-11-24</td>\n",
       "      <td>CUST001</td>\n",
       "      <td>Male</td>\n",
       "      <td>34</td>\n",
       "      <td>Beauty</td>\n",
       "      <td>3</td>\n",
       "      <td>50</td>\n",
       "      <td>150</td>\n",
       "    </tr>\n",
       "    <tr>\n",
       "      <th>1</th>\n",
       "      <td>2</td>\n",
       "      <td>2023-02-27</td>\n",
       "      <td>CUST002</td>\n",
       "      <td>Female</td>\n",
       "      <td>26</td>\n",
       "      <td>Clothing</td>\n",
       "      <td>2</td>\n",
       "      <td>500</td>\n",
       "      <td>1000</td>\n",
       "    </tr>\n",
       "    <tr>\n",
       "      <th>2</th>\n",
       "      <td>3</td>\n",
       "      <td>2023-01-13</td>\n",
       "      <td>CUST003</td>\n",
       "      <td>Male</td>\n",
       "      <td>50</td>\n",
       "      <td>Electronics</td>\n",
       "      <td>1</td>\n",
       "      <td>30</td>\n",
       "      <td>30</td>\n",
       "    </tr>\n",
       "    <tr>\n",
       "      <th>3</th>\n",
       "      <td>4</td>\n",
       "      <td>2023-05-21</td>\n",
       "      <td>CUST004</td>\n",
       "      <td>Male</td>\n",
       "      <td>37</td>\n",
       "      <td>Clothing</td>\n",
       "      <td>1</td>\n",
       "      <td>500</td>\n",
       "      <td>500</td>\n",
       "    </tr>\n",
       "    <tr>\n",
       "      <th>4</th>\n",
       "      <td>5</td>\n",
       "      <td>2023-05-06</td>\n",
       "      <td>CUST005</td>\n",
       "      <td>Male</td>\n",
       "      <td>30</td>\n",
       "      <td>Beauty</td>\n",
       "      <td>2</td>\n",
       "      <td>50</td>\n",
       "      <td>100</td>\n",
       "    </tr>\n",
       "  </tbody>\n",
       "</table>\n",
       "</div>"
      ],
      "text/plain": [
       "   Transaction ID        Date Customer ID  Gender  Age Product Category  \\\n",
       "0               1  2023-11-24     CUST001    Male   34           Beauty   \n",
       "1               2  2023-02-27     CUST002  Female   26         Clothing   \n",
       "2               3  2023-01-13     CUST003    Male   50      Electronics   \n",
       "3               4  2023-05-21     CUST004    Male   37         Clothing   \n",
       "4               5  2023-05-06     CUST005    Male   30           Beauty   \n",
       "\n",
       "   Quantity  Price per Unit  Total Amount  \n",
       "0         3              50           150  \n",
       "1         2             500          1000  \n",
       "2         1              30            30  \n",
       "3         1             500           500  \n",
       "4         2              50           100  "
      ]
     },
     "execution_count": 3,
     "metadata": {},
     "output_type": "execute_result"
    }
   ],
   "source": [
    "# The data\n",
    "sale_data.head()"
   ]
  },
  {
   "cell_type": "code",
   "execution_count": 4,
   "id": "681e1c89-3f85-4bf2-be71-c9b4cc1db637",
   "metadata": {},
   "outputs": [
    {
     "name": "stdout",
     "output_type": "stream",
     "text": [
      "<class 'pandas.core.frame.DataFrame'>\n",
      "RangeIndex: 1000 entries, 0 to 999\n",
      "Data columns (total 9 columns):\n",
      " #   Column            Non-Null Count  Dtype \n",
      "---  ------            --------------  ----- \n",
      " 0   Transaction ID    1000 non-null   int64 \n",
      " 1   Date              1000 non-null   object\n",
      " 2   Customer ID       1000 non-null   object\n",
      " 3   Gender            1000 non-null   object\n",
      " 4   Age               1000 non-null   int64 \n",
      " 5   Product Category  1000 non-null   object\n",
      " 6   Quantity          1000 non-null   int64 \n",
      " 7   Price per Unit    1000 non-null   int64 \n",
      " 8   Total Amount      1000 non-null   int64 \n",
      "dtypes: int64(5), object(4)\n",
      "memory usage: 70.4+ KB\n"
     ]
    }
   ],
   "source": [
    "# Information about different datatypes in different columns of the dataset\n",
    "sale_data.info()"
   ]
  },
  {
   "cell_type": "code",
   "execution_count": 5,
   "id": "c0a49e69-8d21-4dba-b745-20e8f2b450d0",
   "metadata": {},
   "outputs": [
    {
     "data": {
      "text/html": [
       "<div>\n",
       "<style scoped>\n",
       "    .dataframe tbody tr th:only-of-type {\n",
       "        vertical-align: middle;\n",
       "    }\n",
       "\n",
       "    .dataframe tbody tr th {\n",
       "        vertical-align: top;\n",
       "    }\n",
       "\n",
       "    .dataframe thead th {\n",
       "        text-align: right;\n",
       "    }\n",
       "</style>\n",
       "<table border=\"1\" class=\"dataframe\">\n",
       "  <thead>\n",
       "    <tr style=\"text-align: right;\">\n",
       "      <th></th>\n",
       "      <th>Transaction ID</th>\n",
       "      <th>Age</th>\n",
       "      <th>Quantity</th>\n",
       "      <th>Price per Unit</th>\n",
       "      <th>Total Amount</th>\n",
       "    </tr>\n",
       "  </thead>\n",
       "  <tbody>\n",
       "    <tr>\n",
       "      <th>count</th>\n",
       "      <td>1000.000000</td>\n",
       "      <td>1000.00000</td>\n",
       "      <td>1000.000000</td>\n",
       "      <td>1000.000000</td>\n",
       "      <td>1000.000000</td>\n",
       "    </tr>\n",
       "    <tr>\n",
       "      <th>mean</th>\n",
       "      <td>500.500000</td>\n",
       "      <td>41.39200</td>\n",
       "      <td>2.514000</td>\n",
       "      <td>179.890000</td>\n",
       "      <td>456.000000</td>\n",
       "    </tr>\n",
       "    <tr>\n",
       "      <th>std</th>\n",
       "      <td>288.819436</td>\n",
       "      <td>13.68143</td>\n",
       "      <td>1.132734</td>\n",
       "      <td>189.681356</td>\n",
       "      <td>559.997632</td>\n",
       "    </tr>\n",
       "    <tr>\n",
       "      <th>min</th>\n",
       "      <td>1.000000</td>\n",
       "      <td>18.00000</td>\n",
       "      <td>1.000000</td>\n",
       "      <td>25.000000</td>\n",
       "      <td>25.000000</td>\n",
       "    </tr>\n",
       "    <tr>\n",
       "      <th>25%</th>\n",
       "      <td>250.750000</td>\n",
       "      <td>29.00000</td>\n",
       "      <td>1.000000</td>\n",
       "      <td>30.000000</td>\n",
       "      <td>60.000000</td>\n",
       "    </tr>\n",
       "    <tr>\n",
       "      <th>50%</th>\n",
       "      <td>500.500000</td>\n",
       "      <td>42.00000</td>\n",
       "      <td>3.000000</td>\n",
       "      <td>50.000000</td>\n",
       "      <td>135.000000</td>\n",
       "    </tr>\n",
       "    <tr>\n",
       "      <th>75%</th>\n",
       "      <td>750.250000</td>\n",
       "      <td>53.00000</td>\n",
       "      <td>4.000000</td>\n",
       "      <td>300.000000</td>\n",
       "      <td>900.000000</td>\n",
       "    </tr>\n",
       "    <tr>\n",
       "      <th>max</th>\n",
       "      <td>1000.000000</td>\n",
       "      <td>64.00000</td>\n",
       "      <td>4.000000</td>\n",
       "      <td>500.000000</td>\n",
       "      <td>2000.000000</td>\n",
       "    </tr>\n",
       "  </tbody>\n",
       "</table>\n",
       "</div>"
      ],
      "text/plain": [
       "       Transaction ID         Age     Quantity  Price per Unit  Total Amount\n",
       "count     1000.000000  1000.00000  1000.000000     1000.000000   1000.000000\n",
       "mean       500.500000    41.39200     2.514000      179.890000    456.000000\n",
       "std        288.819436    13.68143     1.132734      189.681356    559.997632\n",
       "min          1.000000    18.00000     1.000000       25.000000     25.000000\n",
       "25%        250.750000    29.00000     1.000000       30.000000     60.000000\n",
       "50%        500.500000    42.00000     3.000000       50.000000    135.000000\n",
       "75%        750.250000    53.00000     4.000000      300.000000    900.000000\n",
       "max       1000.000000    64.00000     4.000000      500.000000   2000.000000"
      ]
     },
     "execution_count": 5,
     "metadata": {},
     "output_type": "execute_result"
    }
   ],
   "source": [
    "# Summary of different numerical columns of the dataset\n",
    "sale_data.describe()"
   ]
  },
  {
   "cell_type": "code",
   "execution_count": 6,
   "id": "59b4f8bb-2021-4e87-812a-0f905afb5e43",
   "metadata": {},
   "outputs": [
    {
     "data": {
      "text/plain": [
       "Transaction ID      0\n",
       "Date                0\n",
       "Customer ID         0\n",
       "Gender              0\n",
       "Age                 0\n",
       "Product Category    0\n",
       "Quantity            0\n",
       "Price per Unit      0\n",
       "Total Amount        0\n",
       "dtype: int64"
      ]
     },
     "execution_count": 6,
     "metadata": {},
     "output_type": "execute_result"
    }
   ],
   "source": [
    "# Checking for missing values\n",
    "sale_data.isnull().sum()"
   ]
  },
  {
   "cell_type": "markdown",
   "id": "f4d013ca-c552-4148-9727-71135d6ff420",
   "metadata": {},
   "source": [
    "## Data Preprocessing and Data Cleaning"
   ]
  },
  {
   "cell_type": "markdown",
   "id": "3091b3ef-68c3-43c7-b16d-e6ce64796c0b",
   "metadata": {},
   "source": [
    "In this step, we have two objectives :\n",
    "\n",
    "1. Convert the **'Date'** column to datetime format\n",
    "2. Adding useful features like **Month** and **DayOfWeek**"
   ]
  },
  {
   "cell_type": "code",
   "execution_count": 7,
   "id": "61658c36-7279-4816-b25f-56e9b996a43e",
   "metadata": {},
   "outputs": [],
   "source": [
    "# Converting 'Date' to datetime format\n",
    "sale_data['Date'] = pd.to_datetime(sale_data['Date'])"
   ]
  },
  {
   "cell_type": "code",
   "execution_count": 8,
   "id": "0aba75f4-1de8-4097-a560-d067f2021327",
   "metadata": {},
   "outputs": [
    {
     "name": "stdout",
     "output_type": "stream",
     "text": [
      "<class 'pandas.core.frame.DataFrame'>\n",
      "RangeIndex: 1000 entries, 0 to 999\n",
      "Data columns (total 9 columns):\n",
      " #   Column            Non-Null Count  Dtype         \n",
      "---  ------            --------------  -----         \n",
      " 0   Transaction ID    1000 non-null   int64         \n",
      " 1   Date              1000 non-null   datetime64[ns]\n",
      " 2   Customer ID       1000 non-null   object        \n",
      " 3   Gender            1000 non-null   object        \n",
      " 4   Age               1000 non-null   int64         \n",
      " 5   Product Category  1000 non-null   object        \n",
      " 6   Quantity          1000 non-null   int64         \n",
      " 7   Price per Unit    1000 non-null   int64         \n",
      " 8   Total Amount      1000 non-null   int64         \n",
      "dtypes: datetime64[ns](1), int64(5), object(3)\n",
      "memory usage: 70.4+ KB\n"
     ]
    }
   ],
   "source": [
    "sale_data.info()"
   ]
  },
  {
   "cell_type": "code",
   "execution_count": 9,
   "id": "72150648-43c6-4a22-8703-cb5f171e3570",
   "metadata": {},
   "outputs": [],
   "source": [
    "#Adding useful features like Month and DayOfWeek\n",
    "sale_data['Month'] = sale_data['Date'].dt.to_period('M')       # Monthly period\n",
    "sale_data['DayOfWeek'] = sale_data['Date'].dt.day_name()       # Day of week"
   ]
  },
  {
   "cell_type": "code",
   "execution_count": 10,
   "id": "979cb484-6f0f-4109-9752-29fc837eaa44",
   "metadata": {},
   "outputs": [
    {
     "data": {
      "text/html": [
       "<div>\n",
       "<style scoped>\n",
       "    .dataframe tbody tr th:only-of-type {\n",
       "        vertical-align: middle;\n",
       "    }\n",
       "\n",
       "    .dataframe tbody tr th {\n",
       "        vertical-align: top;\n",
       "    }\n",
       "\n",
       "    .dataframe thead th {\n",
       "        text-align: right;\n",
       "    }\n",
       "</style>\n",
       "<table border=\"1\" class=\"dataframe\">\n",
       "  <thead>\n",
       "    <tr style=\"text-align: right;\">\n",
       "      <th></th>\n",
       "      <th>Transaction ID</th>\n",
       "      <th>Date</th>\n",
       "      <th>Customer ID</th>\n",
       "      <th>Gender</th>\n",
       "      <th>Age</th>\n",
       "      <th>Product Category</th>\n",
       "      <th>Quantity</th>\n",
       "      <th>Price per Unit</th>\n",
       "      <th>Total Amount</th>\n",
       "      <th>Month</th>\n",
       "      <th>DayOfWeek</th>\n",
       "    </tr>\n",
       "  </thead>\n",
       "  <tbody>\n",
       "    <tr>\n",
       "      <th>0</th>\n",
       "      <td>1</td>\n",
       "      <td>2023-11-24</td>\n",
       "      <td>CUST001</td>\n",
       "      <td>Male</td>\n",
       "      <td>34</td>\n",
       "      <td>Beauty</td>\n",
       "      <td>3</td>\n",
       "      <td>50</td>\n",
       "      <td>150</td>\n",
       "      <td>2023-11</td>\n",
       "      <td>Friday</td>\n",
       "    </tr>\n",
       "    <tr>\n",
       "      <th>1</th>\n",
       "      <td>2</td>\n",
       "      <td>2023-02-27</td>\n",
       "      <td>CUST002</td>\n",
       "      <td>Female</td>\n",
       "      <td>26</td>\n",
       "      <td>Clothing</td>\n",
       "      <td>2</td>\n",
       "      <td>500</td>\n",
       "      <td>1000</td>\n",
       "      <td>2023-02</td>\n",
       "      <td>Monday</td>\n",
       "    </tr>\n",
       "    <tr>\n",
       "      <th>2</th>\n",
       "      <td>3</td>\n",
       "      <td>2023-01-13</td>\n",
       "      <td>CUST003</td>\n",
       "      <td>Male</td>\n",
       "      <td>50</td>\n",
       "      <td>Electronics</td>\n",
       "      <td>1</td>\n",
       "      <td>30</td>\n",
       "      <td>30</td>\n",
       "      <td>2023-01</td>\n",
       "      <td>Friday</td>\n",
       "    </tr>\n",
       "    <tr>\n",
       "      <th>3</th>\n",
       "      <td>4</td>\n",
       "      <td>2023-05-21</td>\n",
       "      <td>CUST004</td>\n",
       "      <td>Male</td>\n",
       "      <td>37</td>\n",
       "      <td>Clothing</td>\n",
       "      <td>1</td>\n",
       "      <td>500</td>\n",
       "      <td>500</td>\n",
       "      <td>2023-05</td>\n",
       "      <td>Sunday</td>\n",
       "    </tr>\n",
       "    <tr>\n",
       "      <th>4</th>\n",
       "      <td>5</td>\n",
       "      <td>2023-05-06</td>\n",
       "      <td>CUST005</td>\n",
       "      <td>Male</td>\n",
       "      <td>30</td>\n",
       "      <td>Beauty</td>\n",
       "      <td>2</td>\n",
       "      <td>50</td>\n",
       "      <td>100</td>\n",
       "      <td>2023-05</td>\n",
       "      <td>Saturday</td>\n",
       "    </tr>\n",
       "  </tbody>\n",
       "</table>\n",
       "</div>"
      ],
      "text/plain": [
       "   Transaction ID       Date Customer ID  Gender  Age Product Category  \\\n",
       "0               1 2023-11-24     CUST001    Male   34           Beauty   \n",
       "1               2 2023-02-27     CUST002  Female   26         Clothing   \n",
       "2               3 2023-01-13     CUST003    Male   50      Electronics   \n",
       "3               4 2023-05-21     CUST004    Male   37         Clothing   \n",
       "4               5 2023-05-06     CUST005    Male   30           Beauty   \n",
       "\n",
       "   Quantity  Price per Unit  Total Amount    Month DayOfWeek  \n",
       "0         3              50           150  2023-11    Friday  \n",
       "1         2             500          1000  2023-02    Monday  \n",
       "2         1              30            30  2023-01    Friday  \n",
       "3         1             500           500  2023-05    Sunday  \n",
       "4         2              50           100  2023-05  Saturday  "
      ]
     },
     "execution_count": 10,
     "metadata": {},
     "output_type": "execute_result"
    }
   ],
   "source": [
    "sale_data.head()"
   ]
  },
  {
   "cell_type": "markdown",
   "id": "fe338b1d-2194-4de0-9a92-315fd38419b7",
   "metadata": {},
   "source": [
    "## Analyzing Monthly Sales Trends"
   ]
  },
  {
   "cell_type": "code",
   "execution_count": 11,
   "id": "efb3b2fa-25f6-41aa-b44c-5709a687b473",
   "metadata": {},
   "outputs": [
    {
     "data": {
      "text/html": [
       "<div>\n",
       "<style scoped>\n",
       "    .dataframe tbody tr th:only-of-type {\n",
       "        vertical-align: middle;\n",
       "    }\n",
       "\n",
       "    .dataframe tbody tr th {\n",
       "        vertical-align: top;\n",
       "    }\n",
       "\n",
       "    .dataframe thead th {\n",
       "        text-align: right;\n",
       "    }\n",
       "</style>\n",
       "<table border=\"1\" class=\"dataframe\">\n",
       "  <thead>\n",
       "    <tr style=\"text-align: right;\">\n",
       "      <th></th>\n",
       "      <th>Date</th>\n",
       "      <th>Total Amount</th>\n",
       "    </tr>\n",
       "  </thead>\n",
       "  <tbody>\n",
       "    <tr>\n",
       "      <th>0</th>\n",
       "      <td>2023-01-01</td>\n",
       "      <td>35450</td>\n",
       "    </tr>\n",
       "    <tr>\n",
       "      <th>1</th>\n",
       "      <td>2023-02-01</td>\n",
       "      <td>44060</td>\n",
       "    </tr>\n",
       "    <tr>\n",
       "      <th>2</th>\n",
       "      <td>2023-03-01</td>\n",
       "      <td>28990</td>\n",
       "    </tr>\n",
       "    <tr>\n",
       "      <th>3</th>\n",
       "      <td>2023-04-01</td>\n",
       "      <td>33870</td>\n",
       "    </tr>\n",
       "    <tr>\n",
       "      <th>4</th>\n",
       "      <td>2023-05-01</td>\n",
       "      <td>53150</td>\n",
       "    </tr>\n",
       "    <tr>\n",
       "      <th>5</th>\n",
       "      <td>2023-06-01</td>\n",
       "      <td>36715</td>\n",
       "    </tr>\n",
       "    <tr>\n",
       "      <th>6</th>\n",
       "      <td>2023-07-01</td>\n",
       "      <td>35465</td>\n",
       "    </tr>\n",
       "    <tr>\n",
       "      <th>7</th>\n",
       "      <td>2023-08-01</td>\n",
       "      <td>36960</td>\n",
       "    </tr>\n",
       "    <tr>\n",
       "      <th>8</th>\n",
       "      <td>2023-09-01</td>\n",
       "      <td>23620</td>\n",
       "    </tr>\n",
       "    <tr>\n",
       "      <th>9</th>\n",
       "      <td>2023-10-01</td>\n",
       "      <td>46580</td>\n",
       "    </tr>\n",
       "    <tr>\n",
       "      <th>10</th>\n",
       "      <td>2023-11-01</td>\n",
       "      <td>34920</td>\n",
       "    </tr>\n",
       "    <tr>\n",
       "      <th>11</th>\n",
       "      <td>2023-12-01</td>\n",
       "      <td>44690</td>\n",
       "    </tr>\n",
       "    <tr>\n",
       "      <th>12</th>\n",
       "      <td>2024-01-01</td>\n",
       "      <td>1530</td>\n",
       "    </tr>\n",
       "  </tbody>\n",
       "</table>\n",
       "</div>"
      ],
      "text/plain": [
       "         Date  Total Amount\n",
       "0  2023-01-01         35450\n",
       "1  2023-02-01         44060\n",
       "2  2023-03-01         28990\n",
       "3  2023-04-01         33870\n",
       "4  2023-05-01         53150\n",
       "5  2023-06-01         36715\n",
       "6  2023-07-01         35465\n",
       "7  2023-08-01         36960\n",
       "8  2023-09-01         23620\n",
       "9  2023-10-01         46580\n",
       "10 2023-11-01         34920\n",
       "11 2023-12-01         44690\n",
       "12 2024-01-01          1530"
      ]
     },
     "execution_count": 11,
     "metadata": {},
     "output_type": "execute_result"
    }
   ],
   "source": [
    "# Average sales data (monthly)\n",
    "sale_monthly = sale_data.groupby(by = sale_data['Date'].dt.to_period('M'))['Total Amount'].sum()\n",
    "sale_monthly = sale_monthly.to_frame().reset_index()\n",
    "sale_monthly['Date'] = sale_monthly['Date'].astype(str)\n",
    "sale_monthly['Date'] = pd.to_datetime(sale_monthly['Date'])\n",
    "sale_monthly"
   ]
  },
  {
   "cell_type": "code",
   "execution_count": 12,
   "id": "8e5ab2c4-0a72-4960-a53f-e10be69e207f",
   "metadata": {},
   "outputs": [],
   "source": [
    "# Loading required packages\n",
    "from matplotlib import pyplot as plt"
   ]
  },
  {
   "cell_type": "code",
   "execution_count": 13,
   "id": "800dfa9a-2b58-44d7-8f2b-7fd4aa4e4df4",
   "metadata": {
    "scrolled": true
   },
   "outputs": [
    {
     "data": {
      "image/png": "[encoded data removed]",
      "text/plain": [
       "<Figure size 1000x500 with 1 Axes>"
      ]
     },
     "metadata": {},
     "output_type": "display_data"
    }
   ],
   "source": [
    "# Plotting the average monthly sales data\n",
    "plt.figure(figsize = (10,5))\n",
    "plt.style.use('petroff10')\n",
    "\n",
    "plt.plot(sale_monthly['Date'], sale_monthly['Total Amount'])\n",
    "\n",
    "plt.title('Monthly Retail Sales')\n",
    "plt.xlabel('Month')\n",
    "plt.ylabel('Monthly sale')\n",
    "\n",
    "plt.tight_layout()\n",
    "\n",
    "plt.grid()\n",
    "\n",
    "plt.show()"
   ]
  },
  {
   "cell_type": "markdown",
   "id": "0c49c6ae-9c36-4ead-9535-c0bf539d988d",
   "metadata": {},
   "source": [
    "The average sales trend over the months is now visualized. Key Observations:\n",
    "\n",
    "* **Peak Month**: May 2023 has most sale (***53150***)\n",
    "* **Lowest Month**: January 2024 has the least sale (***1530***) as we don't have complete data for January 2024.\n",
    "* Sales were also strong in Feb 2023, Oct 2023 and Dec 2023."
   ]
  },
  {
   "cell_type": "markdown",
   "id": "0959b6dc-7380-49eb-b79f-23517c8262cc",
   "metadata": {},
   "source": [
    "**SUGGESTIONS**\n",
    "\n",
    "1. Allocate resources during peak months **(Feb, Oct, Dec)**\n",
    "2. Plan marketing during low seasons **(Mar, Sep)**"
   ]
  },
  {
   "cell_type": "markdown",
   "id": "e27cdad1-5f59-4663-8913-0e1860643e87",
   "metadata": {},
   "source": [
    "# Analyzing Top Product Categories"
   ]
  },
  {
   "cell_type": "code",
   "execution_count": 14,
   "id": "4c781b38-7f40-424a-9ec3-d7c89fab4407",
   "metadata": {},
   "outputs": [],
   "source": [
    "# Grouping total sales by categories\n",
    "sale_Category = sale_data.groupby(by = sale_data['Product Category'])['Total Amount'].sum().sort_values(ascending = False)\n",
    "sale_Category = sale_Category.to_frame().reset_index()"
   ]
  },
  {
   "cell_type": "code",
   "execution_count": 15,
   "id": "59287aa3-b0ab-4c01-98c6-b6ef157ebe4e",
   "metadata": {},
   "outputs": [
    {
     "data": {
      "text/html": [
       "<div>\n",
       "<style scoped>\n",
       "    .dataframe tbody tr th:only-of-type {\n",
       "        vertical-align: middle;\n",
       "    }\n",
       "\n",
       "    .dataframe tbody tr th {\n",
       "        vertical-align: top;\n",
       "    }\n",
       "\n",
       "    .dataframe thead th {\n",
       "        text-align: right;\n",
       "    }\n",
       "</style>\n",
       "<table border=\"1\" class=\"dataframe\">\n",
       "  <thead>\n",
       "    <tr style=\"text-align: right;\">\n",
       "      <th></th>\n",
       "      <th>Product Category</th>\n",
       "      <th>Total Amount</th>\n",
       "    </tr>\n",
       "  </thead>\n",
       "  <tbody>\n",
       "    <tr>\n",
       "      <th>0</th>\n",
       "      <td>Electronics</td>\n",
       "      <td>156905</td>\n",
       "    </tr>\n",
       "    <tr>\n",
       "      <th>1</th>\n",
       "      <td>Clothing</td>\n",
       "      <td>155580</td>\n",
       "    </tr>\n",
       "    <tr>\n",
       "      <th>2</th>\n",
       "      <td>Beauty</td>\n",
       "      <td>143515</td>\n",
       "    </tr>\n",
       "  </tbody>\n",
       "</table>\n",
       "</div>"
      ],
      "text/plain": [
       "  Product Category  Total Amount\n",
       "0      Electronics        156905\n",
       "1         Clothing        155580\n",
       "2           Beauty        143515"
      ]
     },
     "execution_count": 15,
     "metadata": {},
     "output_type": "execute_result"
    }
   ],
   "source": [
    "sale_Category"
   ]
  },
  {
   "cell_type": "markdown",
   "id": "4b6729e6-0790-4654-a8b0-e0c4928551b6",
   "metadata": {},
   "source": [
    "Now we plot the grouped data which is grouped by categories."
   ]
  },
  {
   "cell_type": "code",
   "execution_count": 16,
   "id": "1d36769c-f196-4b9d-ac0c-da1f17d64703",
   "metadata": {},
   "outputs": [
    {
     "data": {
      "text/plain": [
       "Text(0, 0.5, 'Total Amount')"
      ]
     },
     "execution_count": 16,
     "metadata": {},
     "output_type": "execute_result"
    },
    {
     "data": {
      "image/png": "[encoded data removed]",
      "text/plain": [
       "<Figure size 1000x600 with 1 Axes>"
      ]
     },
     "metadata": {},
     "output_type": "display_data"
    }
   ],
   "source": [
    "# plotting the grouped data\n",
    "plt.style.use('petroff10')\n",
    "plt.figure(figsize = (10,6))\n",
    "plt.bar(sale_Category['Product Category'],\n",
    "        sale_Category['Total Amount'],\n",
    "       color ='skyblue',\n",
    "       edgecolor='k')\n",
    "plt.title('Total Sales by Product Category')\n",
    "plt.xlabel('Product Categories')\n",
    "plt.ylabel('Total Amount')"
   ]
  },
  {
   "cell_type": "markdown",
   "id": "9c7f27c1-cdbf-49b1-8ffa-de95b662e459",
   "metadata": {},
   "source": [
    "The sales (by dollar) by product category:\n",
    "* **Electronics** : 156905\n",
    "* **Clothing**\t: 155580\n",
    "* **Beauty** : 143515\n",
    "\n",
    "Electronics leads marginally, with Clothing close behind. Beauty products have slightly lower sales."
   ]
  },
  {
   "cell_type": "markdown",
   "id": "02100eea-f017-4285-b25a-1d4109ddece0",
   "metadata": {},
   "source": [
    "**SUGGESTIONS**\n",
    "  \n",
    "1. Consider targeted promotions for Beauty to boost its performance.\n",
    "2. Optimize inventory for Electronics and Clothing based on their demand."
   ]
  },
  {
   "cell_type": "markdown",
   "id": "c5c150d3-0649-44b6-bb77-fd722695536d",
   "metadata": {},
   "source": [
    "# Analysing Sales by Day of the Week"
   ]
  },
  {
   "cell_type": "code",
   "execution_count": 17,
   "id": "bf5d4240-d7a7-4224-b5ab-a0a668cebae8",
   "metadata": {},
   "outputs": [],
   "source": [
    "# Grouping total sales by day of week\n",
    "Days = ['Sunday', 'Monday', 'Tuesday', 'Wednesday', 'Thursday', 'Friday', 'Saturday']\n",
    "sale_DayOfWeek = sale_data.groupby(by = sale_data['DayOfWeek'])['Total Amount'].sum().reindex(Days)\n",
    "sale_DayOfWeek = sale_DayOfWeek.to_frame().reset_index()"
   ]
  },
  {
   "cell_type": "code",
   "execution_count": 18,
   "id": "c47fc41c-8856-444e-9411-f6a2c857330a",
   "metadata": {},
   "outputs": [
    {
     "data": {
      "text/html": [
       "<div>\n",
       "<style scoped>\n",
       "    .dataframe tbody tr th:only-of-type {\n",
       "        vertical-align: middle;\n",
       "    }\n",
       "\n",
       "    .dataframe tbody tr th {\n",
       "        vertical-align: top;\n",
       "    }\n",
       "\n",
       "    .dataframe thead th {\n",
       "        text-align: right;\n",
       "    }\n",
       "</style>\n",
       "<table border=\"1\" class=\"dataframe\">\n",
       "  <thead>\n",
       "    <tr style=\"text-align: right;\">\n",
       "      <th></th>\n",
       "      <th>DayOfWeek</th>\n",
       "      <th>Total Amount</th>\n",
       "    </tr>\n",
       "  </thead>\n",
       "  <tbody>\n",
       "    <tr>\n",
       "      <th>0</th>\n",
       "      <td>Sunday</td>\n",
       "      <td>58600</td>\n",
       "    </tr>\n",
       "    <tr>\n",
       "      <th>1</th>\n",
       "      <td>Monday</td>\n",
       "      <td>70250</td>\n",
       "    </tr>\n",
       "    <tr>\n",
       "      <th>2</th>\n",
       "      <td>Tuesday</td>\n",
       "      <td>69440</td>\n",
       "    </tr>\n",
       "    <tr>\n",
       "      <th>3</th>\n",
       "      <td>Wednesday</td>\n",
       "      <td>58770</td>\n",
       "    </tr>\n",
       "    <tr>\n",
       "      <th>4</th>\n",
       "      <td>Thursday</td>\n",
       "      <td>53835</td>\n",
       "    </tr>\n",
       "    <tr>\n",
       "      <th>5</th>\n",
       "      <td>Friday</td>\n",
       "      <td>66290</td>\n",
       "    </tr>\n",
       "    <tr>\n",
       "      <th>6</th>\n",
       "      <td>Saturday</td>\n",
       "      <td>78815</td>\n",
       "    </tr>\n",
       "  </tbody>\n",
       "</table>\n",
       "</div>"
      ],
      "text/plain": [
       "   DayOfWeek  Total Amount\n",
       "0     Sunday         58600\n",
       "1     Monday         70250\n",
       "2    Tuesday         69440\n",
       "3  Wednesday         58770\n",
       "4   Thursday         53835\n",
       "5     Friday         66290\n",
       "6   Saturday         78815"
      ]
     },
     "execution_count": 18,
     "metadata": {},
     "output_type": "execute_result"
    }
   ],
   "source": [
    "sale_DayOfWeek"
   ]
  },
  {
   "cell_type": "markdown",
   "id": "54eff80f-d808-4279-afa2-68a857fb6519",
   "metadata": {},
   "source": [
    "Now we plot the grouped data which is grouped by categories."
   ]
  },
  {
   "cell_type": "code",
   "execution_count": 19,
   "id": "cbba9b1b-e9c9-4c3d-9c77-6481be6c78cd",
   "metadata": {},
   "outputs": [
    {
     "data": {
      "text/plain": [
       "Text(0, 0.5, 'Total Amount')"
      ]
     },
     "execution_count": 19,
     "metadata": {},
     "output_type": "execute_result"
    },
    {
     "data": {
      "image/png": "[encoded data removed]",
      "text/plain": [
       "<Figure size 1000x600 with 1 Axes>"
      ]
     },
     "metadata": {},
     "output_type": "display_data"
    }
   ],
   "source": [
    "# plotting the grouped data\n",
    "plt.style.use('petroff10')\n",
    "plt.figure(figsize = (10,6))\n",
    "plt.bar(sale_DayOfWeek['DayOfWeek'],\n",
    "        sale_DayOfWeek['Total Amount'],\n",
    "       color ='skyblue',\n",
    "       edgecolor='k')\n",
    "plt.title('Total Sales by Day Of Week')\n",
    "plt.xlabel('Day of Week')\n",
    "plt.ylabel('Total Amount')"
   ]
  },
  {
   "cell_type": "markdown",
   "id": "c8a9296b-38a7-4c86-a9d5-a31008b9f9b9",
   "metadata": {},
   "source": [
    "Key Observations:\n",
    "\n",
    "1. **Weekend Sales** : Sales are highest on weekends. (Saturday and Sunday)\n",
    "2. **Monday and Tuesday Sales** : Sales are relatively higher compared to other weekdays.\n",
    "3. **Other Weekdays** : Lower sales comparedd to weekends and early weekdays."
   ]
  },
  {
   "cell_type": "markdown",
   "id": "4487d2d1-6a37-4a6f-b0d9-72ad719b4b70",
   "metadata": {},
   "source": [
    "**SUGGESTIONS**\n",
    "\n",
    "1. Consider running weekend promotions or extending store hours to maximize revenue.\n",
    "2. Investigate if these sales are tied to specific customer behaviors or recurring events. ***(any promotions or discounts or reason of demand)***\n",
    "3. Boost mid-week sales through targeted campaigns like 'Midweek Specials' or discounts."
   ]
  },
  {
   "cell_type": "markdown",
   "id": "20aa4abc-5afc-4b95-b3dd-5252322b635a",
   "metadata": {},
   "source": [
    "# Analysing Customer Demographics"
   ]
  },
  {
   "cell_type": "markdown",
   "id": "d5caa942-67c0-45ad-964d-18972f3dd380",
   "metadata": {},
   "source": [
    "We are going to evaluate sales distribution by gender and age."
   ]
  },
  {
   "cell_type": "code",
   "execution_count": 20,
   "id": "b0dae412-b264-4ec4-8e62-2ea0440877d4",
   "metadata": {},
   "outputs": [],
   "source": [
    "# Grouping total sales by gender\n",
    "sale_Gender = sale_data.groupby(by = sale_data['Gender'])['Total Amount'].sum()\n",
    "sale_Gender = sale_Gender.to_frame().reset_index()"
   ]
  },
  {
   "cell_type": "code",
   "execution_count": 21,
   "id": "2f16c561-5330-4cb0-ad48-600c5fe28dad",
   "metadata": {},
   "outputs": [
    {
     "data": {
      "text/html": [
       "<div>\n",
       "<style scoped>\n",
       "    .dataframe tbody tr th:only-of-type {\n",
       "        vertical-align: middle;\n",
       "    }\n",
       "\n",
       "    .dataframe tbody tr th {\n",
       "        vertical-align: top;\n",
       "    }\n",
       "\n",
       "    .dataframe thead th {\n",
       "        text-align: right;\n",
       "    }\n",
       "</style>\n",
       "<table border=\"1\" class=\"dataframe\">\n",
       "  <thead>\n",
       "    <tr style=\"text-align: right;\">\n",
       "      <th></th>\n",
       "      <th>Gender</th>\n",
       "      <th>Total Amount</th>\n",
       "    </tr>\n",
       "  </thead>\n",
       "  <tbody>\n",
       "    <tr>\n",
       "      <th>0</th>\n",
       "      <td>Female</td>\n",
       "      <td>232840</td>\n",
       "    </tr>\n",
       "    <tr>\n",
       "      <th>1</th>\n",
       "      <td>Male</td>\n",
       "      <td>223160</td>\n",
       "    </tr>\n",
       "  </tbody>\n",
       "</table>\n",
       "</div>"
      ],
      "text/plain": [
       "   Gender  Total Amount\n",
       "0  Female        232840\n",
       "1    Male        223160"
      ]
     },
     "execution_count": 21,
     "metadata": {},
     "output_type": "execute_result"
    }
   ],
   "source": [
    "sale_Gender"
   ]
  },
  {
   "cell_type": "markdown",
   "id": "d2a0df03-94c8-41b2-96bd-2f2aef438655",
   "metadata": {},
   "source": [
    "Now we plot the grouped data which is grouped by gender."
   ]
  },
  {
   "cell_type": "code",
   "execution_count": 22,
   "id": "e8ef1df3-ebc2-48f6-9629-0d94da1e5f7e",
   "metadata": {},
   "outputs": [
    {
     "data": {
      "text/plain": [
       "Text(0, 0.5, 'Total Amount')"
      ]
     },
     "execution_count": 22,
     "metadata": {},
     "output_type": "execute_result"
    },
    {
     "data": {
      "image/png": "[encoded data removed]",
      "text/plain": [
       "<Figure size 1000x600 with 1 Axes>"
      ]
     },
     "metadata": {},
     "output_type": "display_data"
    }
   ],
   "source": [
    "# plotting the grouped data\n",
    "plt.style.use('petroff10')\n",
    "plt.figure(figsize = (10,6))\n",
    "plt.bar(sale_Gender['Gender'],\n",
    "        sale_Gender['Total Amount'],\n",
    "       color ='skyblue',\n",
    "       edgecolor='k')\n",
    "plt.title('Total Sales by Gender')\n",
    "plt.xlabel('Gender')\n",
    "plt.ylabel('Total Amount')"
   ]
  },
  {
   "cell_type": "markdown",
   "id": "6c917149-64a4-4d45-83d1-6ef185bc7c27",
   "metadata": {},
   "source": [
    "**Key Observations** :\n",
    "* Female customers account for a larger share of sales (***$232,840***), possibly due to preferences for product categories like ***clothing***, ***beauty***.\n",
    "  \n",
    "* Male customers contribute significantly but slightly less(***$223,160***), potentially favoring categories like **electronic**."
   ]
  },
  {
   "cell_type": "code",
   "execution_count": 23,
   "id": "966b3589-a360-42bf-9e8f-32341b9f5a3d",
   "metadata": {},
   "outputs": [],
   "source": [
    "# Grouping total sales by gender\n",
    "labels = ['<20', '20-30', ' 30-40', '40-50', '50-60', '>60']\n",
    "sale_data['AgeGroup'] = pd.cut(sale_data['Age'], \n",
    "                                bins = [ 0, 20, 30, 40, 50, 60,100],\n",
    "                                labels = labels)\n",
    "\n",
    "\n",
    "sale_AgeGroup = sale_data.groupby(by = sale_data['AgeGroup'], observed=True)['Total Amount'].sum()\n",
    "sale_AgeGroup = sale_AgeGroup.to_frame().reset_index()"
   ]
  },
  {
   "cell_type": "code",
   "execution_count": 24,
   "id": "1ae6c40a-f8a3-4b1d-ab2b-0ec73bf0f1dc",
   "metadata": {},
   "outputs": [
    {
     "data": {
      "text/html": [
       "<div>\n",
       "<style scoped>\n",
       "    .dataframe tbody tr th:only-of-type {\n",
       "        vertical-align: middle;\n",
       "    }\n",
       "\n",
       "    .dataframe tbody tr th {\n",
       "        vertical-align: top;\n",
       "    }\n",
       "\n",
       "    .dataframe thead th {\n",
       "        text-align: right;\n",
       "    }\n",
       "</style>\n",
       "<table border=\"1\" class=\"dataframe\">\n",
       "  <thead>\n",
       "    <tr style=\"text-align: right;\">\n",
       "      <th></th>\n",
       "      <th>AgeGroup</th>\n",
       "      <th>Total Amount</th>\n",
       "    </tr>\n",
       "  </thead>\n",
       "  <tbody>\n",
       "    <tr>\n",
       "      <th>0</th>\n",
       "      <td>&lt;20</td>\n",
       "      <td>34730</td>\n",
       "    </tr>\n",
       "    <tr>\n",
       "      <th>1</th>\n",
       "      <td>20-30</td>\n",
       "      <td>98215</td>\n",
       "    </tr>\n",
       "    <tr>\n",
       "      <th>2</th>\n",
       "      <td>30-40</td>\n",
       "      <td>95950</td>\n",
       "    </tr>\n",
       "    <tr>\n",
       "      <th>3</th>\n",
       "      <td>40-50</td>\n",
       "      <td>93795</td>\n",
       "    </tr>\n",
       "    <tr>\n",
       "      <th>4</th>\n",
       "      <td>50-60</td>\n",
       "      <td>100085</td>\n",
       "    </tr>\n",
       "    <tr>\n",
       "      <th>5</th>\n",
       "      <td>&gt;60</td>\n",
       "      <td>33225</td>\n",
       "    </tr>\n",
       "  </tbody>\n",
       "</table>\n",
       "</div>"
      ],
      "text/plain": [
       "  AgeGroup  Total Amount\n",
       "0      <20         34730\n",
       "1    20-30         98215\n",
       "2    30-40         95950\n",
       "3    40-50         93795\n",
       "4    50-60        100085\n",
       "5      >60         33225"
      ]
     },
     "execution_count": 24,
     "metadata": {},
     "output_type": "execute_result"
    }
   ],
   "source": [
    "sale_AgeGroup"
   ]
  },
  {
   "cell_type": "markdown",
   "id": "2088d9e2-785f-4e7e-9a56-640fd1ca8784",
   "metadata": {},
   "source": [
    "Now we plot the grouped data which is grouped by gender."
   ]
  },
  {
   "cell_type": "code",
   "execution_count": 25,
   "id": "615d7dcc-2ebc-4a3a-a5bd-cd9172bd1382",
   "metadata": {},
   "outputs": [
    {
     "data": {
      "text/plain": [
       "Text(0, 0.5, 'Total Amount')"
      ]
     },
     "execution_count": 25,
     "metadata": {},
     "output_type": "execute_result"
    },
    {
     "data": {
      "image/png": "[encoded data removed]",
      "text/plain": [
       "<Figure size 1000x600 with 1 Axes>"
      ]
     },
     "metadata": {},
     "output_type": "display_data"
    }
   ],
   "source": [
    "# plotting the grouped data\n",
    "plt.style.use('petroff10')\n",
    "plt.figure(figsize = (10,6))\n",
    "plt.bar(sale_AgeGroup['AgeGroup'],\n",
    "        sale_AgeGroup['Total Amount'],\n",
    "       color ='skyblue',\n",
    "       edgecolor='k')\n",
    "plt.title('Total Sales by AgeGroup')\n",
    "plt.xlabel('Age Group')\n",
    "plt.ylabel('Total Amount')"
   ]
  },
  {
   "cell_type": "markdown",
   "id": "86287dcb-4dd1-4bb8-8046-e0632b13bc69",
   "metadata": {},
   "source": [
    "**Key Observations** :\n",
    "\n",
    "* Customer aged ***50-60*** show the highest spending likely due to higher disposable income of family-oriented purchases.\n",
    "* Young adults ***(20-30)*** also contribute significantly, possibly due to independent lifestyles or tech-savvy buying patterns.\n",
    "* The lowest sales in the ***<20 & >60*** age groups may reflect limited purchasing power or a smaller proportion of the customer base."
   ]
  },
  {
   "cell_type": "markdown",
   "id": "9d23e279-91c4-4263-891f-67ae430b48f8",
   "metadata": {},
   "source": [
    "**Suggestions**:\n",
    "\n",
    "* ***For 50-60 Age Group*** : Focus on premium or high value products, and family-oriented products.\n",
    "* ***For 20-30 Age Group*** : Enhance digital marketing efforts, targeting tech, fashion products."
   ]
  },
  {
   "cell_type": "markdown",
   "id": "a4c3e6f1-8b06-4060-9ef0-95471a9e8674",
   "metadata": {},
   "source": [
    "# Saving the final data for tableau"
   ]
  },
  {
   "cell_type": "code",
   "execution_count": 30,
   "id": "fa8abc8e-8a9a-45c5-8acd-9d836650c60b",
   "metadata": {},
   "outputs": [
    {
     "data": {
      "text/html": [
       "<div>\n",
       "<style scoped>\n",
       "    .dataframe tbody tr th:only-of-type {\n",
       "        vertical-align: middle;\n",
       "    }\n",
       "\n",
       "    .dataframe tbody tr th {\n",
       "        vertical-align: top;\n",
       "    }\n",
       "\n",
       "    .dataframe thead th {\n",
       "        text-align: right;\n",
       "    }\n",
       "</style>\n",
       "<table border=\"1\" class=\"dataframe\">\n",
       "  <thead>\n",
       "    <tr style=\"text-align: right;\">\n",
       "      <th></th>\n",
       "      <th>Transaction ID</th>\n",
       "      <th>Date</th>\n",
       "      <th>Customer ID</th>\n",
       "      <th>Gender</th>\n",
       "      <th>Age</th>\n",
       "      <th>Product Category</th>\n",
       "      <th>Quantity</th>\n",
       "      <th>Price per Unit</th>\n",
       "      <th>Total Amount</th>\n",
       "      <th>Month</th>\n",
       "      <th>DayOfWeek</th>\n",
       "      <th>AgeGroup</th>\n",
       "    </tr>\n",
       "  </thead>\n",
       "  <tbody>\n",
       "    <tr>\n",
       "      <th>0</th>\n",
       "      <td>1</td>\n",
       "      <td>2023-11-24</td>\n",
       "      <td>CUST001</td>\n",
       "      <td>Male</td>\n",
       "      <td>34</td>\n",
       "      <td>Beauty</td>\n",
       "      <td>3</td>\n",
       "      <td>50</td>\n",
       "      <td>150</td>\n",
       "      <td>2023-11</td>\n",
       "      <td>Friday</td>\n",
       "      <td>30-40</td>\n",
       "    </tr>\n",
       "    <tr>\n",
       "      <th>1</th>\n",
       "      <td>2</td>\n",
       "      <td>2023-02-27</td>\n",
       "      <td>CUST002</td>\n",
       "      <td>Female</td>\n",
       "      <td>26</td>\n",
       "      <td>Clothing</td>\n",
       "      <td>2</td>\n",
       "      <td>500</td>\n",
       "      <td>1000</td>\n",
       "      <td>2023-02</td>\n",
       "      <td>Monday</td>\n",
       "      <td>20-30</td>\n",
       "    </tr>\n",
       "    <tr>\n",
       "      <th>2</th>\n",
       "      <td>3</td>\n",
       "      <td>2023-01-13</td>\n",
       "      <td>CUST003</td>\n",
       "      <td>Male</td>\n",
       "      <td>50</td>\n",
       "      <td>Electronics</td>\n",
       "      <td>1</td>\n",
       "      <td>30</td>\n",
       "      <td>30</td>\n",
       "      <td>2023-01</td>\n",
       "      <td>Friday</td>\n",
       "      <td>40-50</td>\n",
       "    </tr>\n",
       "    <tr>\n",
       "      <th>3</th>\n",
       "      <td>4</td>\n",
       "      <td>2023-05-21</td>\n",
       "      <td>CUST004</td>\n",
       "      <td>Male</td>\n",
       "      <td>37</td>\n",
       "      <td>Clothing</td>\n",
       "      <td>1</td>\n",
       "      <td>500</td>\n",
       "      <td>500</td>\n",
       "      <td>2023-05</td>\n",
       "      <td>Sunday</td>\n",
       "      <td>30-40</td>\n",
       "    </tr>\n",
       "    <tr>\n",
       "      <th>4</th>\n",
       "      <td>5</td>\n",
       "      <td>2023-05-06</td>\n",
       "      <td>CUST005</td>\n",
       "      <td>Male</td>\n",
       "      <td>30</td>\n",
       "      <td>Beauty</td>\n",
       "      <td>2</td>\n",
       "      <td>50</td>\n",
       "      <td>100</td>\n",
       "      <td>2023-05</td>\n",
       "      <td>Saturday</td>\n",
       "      <td>20-30</td>\n",
       "    </tr>\n",
       "  </tbody>\n",
       "</table>\n",
       "</div>"
      ],
      "text/plain": [
       "   Transaction ID       Date Customer ID  Gender  Age Product Category  \\\n",
       "0               1 2023-11-24     CUST001    Male   34           Beauty   \n",
       "1               2 2023-02-27     CUST002  Female   26         Clothing   \n",
       "2               3 2023-01-13     CUST003    Male   50      Electronics   \n",
       "3               4 2023-05-21     CUST004    Male   37         Clothing   \n",
       "4               5 2023-05-06     CUST005    Male   30           Beauty   \n",
       "\n",
       "   Quantity  Price per Unit  Total Amount    Month DayOfWeek AgeGroup  \n",
       "0         3              50           150  2023-11    Friday    30-40  \n",
       "1         2             500          1000  2023-02    Monday    20-30  \n",
       "2         1              30            30  2023-01    Friday    40-50  \n",
       "3         1             500           500  2023-05    Sunday    30-40  \n",
       "4         2              50           100  2023-05  Saturday    20-30  "
      ]
     },
     "execution_count": 30,
     "metadata": {},
     "output_type": "execute_result"
    }
   ],
   "source": [
    "sale_data.head()"
   ]
  },
  {
   "cell_type": "code",
   "execution_count": 31,
   "id": "a3df212a-65a5-4bad-aca6-e3c766eb09b6",
   "metadata": {},
   "outputs": [],
   "source": [
    "sale_data.to_csv(\"FinalSaleData.csv\", index = False)"
   ]
  },
  {
   "cell_type": "code",
   "execution_count": null,
   "id": "a402b9f5-8ede-473a-a997-232087da249a",
   "metadata": {},
   "outputs": [],
   "source": []
  }
 ],
 "metadata": {
  "kernelspec": {
   "display_name": "Python 3 (ipykernel)",
   "language": "python",
   "name": "python3"
  },
  "language_info": {
   "codemirror_mode": {
    "name": "ipython",
    "version": 3
   },
   "file_extension": ".py",
   "mimetype": "text/x-python",
   "name": "python",
   "nbconvert_exporter": "python",
   "pygments_lexer": "ipython3",
   "version": "3.11.3"
  }
 },
 "nbformat": 4,
 "nbformat_minor": 5
}
